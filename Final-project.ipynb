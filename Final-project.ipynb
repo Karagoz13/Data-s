{
 "cells": [
  {
   "cell_type": "markdown",
   "metadata": {},
   "source": [
    "Финальный Проект\n",
    "---"
   ]
  },
  {
   "cell_type": "markdown",
   "metadata": {},
   "source": [
    "Пожалуйста, создайте пакет **education**, который содержит следующие модули:\n",
    "\n",
    "1. users\n",
    "2. organizations\n",
    "\n",
    "Когда вы запускаете пакет напрямую, он должен показывать все модули, указанные в пакете."
   ]
  },
  {
   "cell_type": "markdown",
   "metadata": {},
   "source": [
    "## Описание модулей приведено ниже:"
   ]
  },
  {
   "cell_type": "markdown",
   "metadata": {},
   "source": [
    "### Модуль **users** должен содержать классы **Human, Student(Human), Teacher(Human)**.\n",
    "\n",
    "1. Класс **Human** должен содержать следующую информацию: имя, фамилию, возраст, пол, национальность, а также способы задания этой информации.\n",
    " \n",
    ">``` \n",
    "> h1 = Human(name=\"John\", familyname=\"Wick\", age=35, gender=\"male\", nationality=\"USA\")\n",
    "> ``` \n",
    "\n",
    "Список методов:\n",
    "> ```\n",
    "set_name()\n",
    "set_family()\n",
    "set_age()\n",
    "set_gender()\n",
    "set_nationality()\n",
    "get_info() # возвращает словарь с личной информацией об объекте\n",
    "> ```\n",
    "\n",
    "2. Класс **Student** - это детский класс класса Human. Он должен содержать следующую информацию о каждом студенте: имя, фамилия, возраст, пол, национальность, название школы или университета, список предметов и соответствующие методы для установки этой информации.\n",
    "\n",
    "\n",
    "Список методов в дополнение к списку методов из родительского класса Human:\n",
    "> ```\n",
    "set_school()\n",
    "add_subject() # добавить предмет в список предметов\n",
    "> ```\n",
    "\n",
    "\n",
    "3. Класс **Teacher** - это детский класс класса Human. Он должен содержать следующую информацию о каждом преподавателе: имя, фамилия, возраст, пол, национальность, название школы или университета, предмет преподавания и соответствующие методы для установки этой информации.\n",
    "\n",
    "Список методов в дополнение к списку методов из родительского класса Human:\n",
    "> ```\n",
    "set_school()\n",
    "add_subject() # добавить предмет преподаваемый учителем\n",
    "> ```\n",
    "\n",
    "* При непосредственном запуске модуля **users** напрямую должен отображаться список классов, а также списки методов соответствующих классов, приведенных в модуле.\n",
    "\n",
    "* Когда вы импортируете модуль, он должен показать, что модуль был успешно импортирован.\n",
    "\n",
    "---"
   ]
  },
  {
   "cell_type": "markdown",
   "metadata": {},
   "source": [
    "### Модуль **organizations** должен содержать класс **School**.\n",
    "\n",
    "Класс **School** должен содержать следующую информацию: название или номер школы, адрес школы, номер телефона школы, электронный адрес учебного заведения, количество учеников, количество учителей, а также способы задания этой информации.\n",
    " \n",
    " \n",
    ">``` \n",
    "> s1 = School(name=\"NIS\", address=\"Astana, Kazakhstan\", phone=\"999999\", num_stud=1000, num_teachers=50)\n",
    "> ``` \n",
    "\n",
    "Список методов:\n",
    "> ```\n",
    "set_name()\n",
    "set_address()\n",
    "set_phone()\n",
    "set_email()\n",
    "set_num_stud()\n",
    "set_num_teachers()\n",
    "add_student()\n",
    "add_teacher()\n",
    "get_info() # возвращает словарь с информацией про школу без личной информации студентов / преподавателей\n",
    "get_report() # создает отчет (файл \"csv\") с информацией о школе и о каждом ученике, а также о преподавателе в этой школе. \n",
    "> ```\n",
    "\n",
    "**Пожалуйста, сделайте правильный формат файла CSV (который вы считаете наиболее понятным)**\n",
    "\n",
    "* При непосредственном запуске модуля **organizations** напрямую должен отображаться список классов, а также списки методов соответствующих классов, приведенных в модуле.\n",
    "\n",
    "* Когда вы импортируете модуль, он должен показать, что модуль был успешно импортирован.\n",
    "\n",
    "---"
   ]
  },
  {
   "cell_type": "markdown",
   "metadata": {},
   "source": [
    "### Что делать в jupyter notebook?\n",
    "\n",
    "В этом jupyter notebook, пожалуйста, проверьте все функциональные возможности вашего пакета. Как минимум создайте 2-3 школы, в каждой школе должно быть не менее 10 учеников (с разной информацией), а также как минимум 2 учителя разных предметов и личной информации. **Личная информация этих учеников, учителей и школ не должна быть правдивой (просто выдумайте).**\n",
    "\n",
    "**Пожалуйста, заархивируйте пакет и данный jupyter notebook вместе и отправьте архивный файл.**"
   ]
  },
  {
   "cell_type": "code",
   "execution_count": 1,
   "metadata": {},
   "outputs": [
    {
     "name": "stdout",
     "output_type": "stream",
     "text": [
      "You are running the education package\n",
      "Users module is imported\n",
      "Organizations module is imported\n"
     ]
    }
   ],
   "source": [
    "# Ваш код:\n",
    "from education.users import *\n",
    "from education.organizations import *"
   ]
  },
  {
   "cell_type": "code",
   "execution_count": 2,
   "metadata": {},
   "outputs": [],
   "source": [
    "# Создаем две школы\n",
    "school_1 = School(name=\"Red Queen School\", \n",
    "                  adress=\"Vashingtom, USA\", \n",
    "                  email = 'stranachudes@Alisa.gg', \n",
    "                  phone=\"999999\", num_stud=0, num_teachers=0)\n",
    "\n",
    "school_2 = School(name=\"Zoo\", \n",
    "                  adress=\"Lionaria, Madagaskar\", \n",
    "                  email = 'lionariaschool@madagaskar.mm', \n",
    "                  phone=\"777777\", num_stud=0, num_teachers=0)"
   ]
  },
  {
   "cell_type": "code",
   "execution_count": 3,
   "metadata": {},
   "outputs": [],
   "source": [
    "# Добавляем учеников в первую школу\n",
    "school_1.add_student(name=\"Alisa\", familyname=\"Happy\", age=7, gender=\"girl\", nationality=\"USA\", \n",
    "                     school=\"Red Queen School\", subject= ['Math', 'Physics'])\n",
    "school_1.add_student(name=\"Cat\", familyname=\"Cheshire\", age=10, gender=\"boy\", nationality=\"USA\", \n",
    "                     school=\"Red Queen School\", subject= ['Biology'])\n",
    "school_1.add_student(name=\"Gallant\", familyname=\"Hatter\", age=35, gender=\"boy\", nationality=\"USA\", \n",
    "                     school=\"Red Queen School\", subject= ['Physics'])\n",
    "school_1.add_student(name=\"Griffin\", familyname=\"Lion\", age=15, gender=\"boy\", nationality=\"USA\", \n",
    "                     school=\"Red Queen School\", subject= ['Story'])\n",
    "school_1.add_student(name=\"Turtle\", familyname=\"Quasi\", age=18, gender=\"girl\", nationality=\"USA\", \n",
    "                     school=\"Red Queen School\", subject= ['Geography'])\n",
    "school_1.add_student(name=\"Rabbit\", familyname=\"March\", age=7, gender=\"boy\", nationality=\"USA\", \n",
    "                     school=\"Red Queen School\", subject= ['Physics'])\n",
    "school_1.add_student(name=\"Sonya\", familyname=\"Sleep\", age=8, gender=\"girl\", nationality=\"USA\", \n",
    "                     school=\"Red Queen School\", subject= ['Biology'])\n",
    "school_1.add_student(name=\"Jack\", familyname=\"Black\", age=18, gender=\"boy\", nationality=\"USA\", \n",
    "                     school=\"Red Queen School\", subject= ['Story'])\n",
    "school_1.add_student(name=\"Jacker\", familyname=\"Black\", age=18, gender=\"boy\", nationality=\"USA\", \n",
    "                     school=\"Red Queen School\", subject= ['Story'])\n",
    "school_1.add_student(name=\"Jocer\", familyname=\"Black\", age=18, gender=\"boy\", nationality=\"USA\", \n",
    "                     school=\"Red Queen School\", subject= ['Story'])\n",
    "\n",
    "# Добавляем учителей в первую школу\n",
    "school_1.add_teacher(name='Caterpillar', familyname='Blue', age='110', gender='girl', nationality='Turkey', \n",
    "                     school='Red Queen School', subject=['Biology', 'Physics','Geography'])\n",
    "school_1.add_teacher(name='Queen', familyname='Red', age='70', gender='girl', nationality='USA', \n",
    "                     school='Red Queen School', subject=['Story', 'Math'])"
   ]
  },
  {
   "cell_type": "code",
   "execution_count": 4,
   "metadata": {},
   "outputs": [],
   "source": [
    "# Добавляем учеников во вторую школу\n",
    "school_2.add_student(name=\"Alex\", familyname=\"Lion\", age=16, gender=\"boy\", nationality=\"Africa\", \n",
    "                     school=\"Zoo\", subject= ['Math'])\n",
    "school_2.add_student(name=\"Marty\", familyname=\"Zebra\", age=14, gender=\"boy\", nationality=\"Africa\", \n",
    "                     school=\"Zoo\", subject= ['Biology'])\n",
    "school_2.add_student(name=\"Melman\", familyname=\"Jiraff\", age=11, gender=\"boy\", nationality=\"Africa\", \n",
    "                     school=\"Zoo\", subject= ['Physics'])\n",
    "school_2.add_student(name=\"Julien\", familyname=\"Ring-tailed lemur\", age=18, gender=\"boy\", nationality=\"Madagaskar\", \n",
    "                     school=\"Zoo\", subject= ['Story'])\n",
    "school_2.add_student(name=\"Gloria\", familyname=\"Hippopotamus\", age=14, gender=\"girl\", nationality=\"Africa\", \n",
    "                     school=\"Zoo\", subject= ['Geography'])\n",
    "school_2.add_student(name=\"Maurice\", familyname=\"Asistent\", age=11, gender=\"boy\", nationality=\"Madagaskar\", \n",
    "                     school=\"Zoo\", subject= ['Physics'])\n",
    "school_2.add_student(name=\"Mort\", familyname=\"Mouse lemur\", age=8, gender=\"girl\", nationality=\"Madagaskar\", \n",
    "                     school=\"Zoo\", subject= ['Biology'])\n",
    "school_2.add_student(name=\"Rico\", familyname=\"Pingvinus\", age=11, gender=\"boy\", nationality=\"Arctica\", \n",
    "                     school=\"Zoo\", subject= ['Story'])\n",
    "school_2.add_student(name=\"Mason\", familyname=\"Primatus\", age=9, gender=\"boy\", nationality=\"Tayland\", \n",
    "                     school=\"Zoo\", subject= ['Himiya'])\n",
    "school_2.add_student(name=\"Phil\", familyname=\"Primatus\", age=10, gender=\"boy\", nationality=\"Tayland\", \n",
    "                     school=\"Zoo\", subject= ['Physics'])\n",
    "\n",
    "# Добавляем учителей во вторую школу\n",
    "school_2.add_teacher(name='Kowalski', familyname='Pingvin', age='20', gender='boy', nationality='Arktika', \n",
    "                     school='Zoo', subject=['Geography', 'Himiya'])\n",
    "school_2.add_teacher(name='Nana', familyname='Granny', age='90', gender='girl', nationality='USA', \n",
    "                     school='Zoo', subject=['Story', 'Math'])\n",
    "school_2.add_teacher(name='Shkipper', familyname='Pingvinovich', age='22', gender='boy', nationality='Arktika', \n",
    "                     school='Zoo', subject=['Biology', 'Physics'])\n"
   ]
  },
  {
   "cell_type": "code",
   "execution_count": 5,
   "metadata": {},
   "outputs": [
    {
     "data": {
      "text/plain": [
       "10"
      ]
     },
     "execution_count": 5,
     "metadata": {},
     "output_type": "execute_result"
    }
   ],
   "source": [
    "school_1.num_stud"
   ]
  },
  {
   "cell_type": "code",
   "execution_count": 6,
   "metadata": {},
   "outputs": [
    {
     "data": {
      "text/plain": [
       "10"
      ]
     },
     "execution_count": 6,
     "metadata": {},
     "output_type": "execute_result"
    }
   ],
   "source": [
    "school_2.num_stud"
   ]
  },
  {
   "cell_type": "code",
   "execution_count": 7,
   "metadata": {},
   "outputs": [
    {
     "data": {
      "text/plain": [
       "2"
      ]
     },
     "execution_count": 7,
     "metadata": {},
     "output_type": "execute_result"
    }
   ],
   "source": [
    "school_1.num_teachers"
   ]
  },
  {
   "cell_type": "code",
   "execution_count": 8,
   "metadata": {},
   "outputs": [
    {
     "data": {
      "text/plain": [
       "3"
      ]
     },
     "execution_count": 8,
     "metadata": {},
     "output_type": "execute_result"
    }
   ],
   "source": [
    "school_2.num_teachers"
   ]
  },
  {
   "cell_type": "code",
   "execution_count": 9,
   "metadata": {},
   "outputs": [
    {
     "data": {
      "text/plain": [
       "('Red Queen School', '999999', 'stranachudes@Alisa.gg')"
      ]
     },
     "execution_count": 9,
     "metadata": {},
     "output_type": "execute_result"
    }
   ],
   "source": [
    "school_1.name, school_1.phone, school_1.email"
   ]
  },
  {
   "cell_type": "code",
   "execution_count": 10,
   "metadata": {},
   "outputs": [
    {
     "data": {
      "text/plain": [
       "{'Name': 'Zoo',\n",
       " 'Adress': 'Lionaria, Madagaskar',\n",
       " 'Phone': '777777',\n",
       " 'Email': 'lionariaschool@madagaskar.mm',\n",
       " 'Number of student': 10,\n",
       " 'Number of teachers': 3}"
      ]
     },
     "execution_count": 10,
     "metadata": {},
     "output_type": "execute_result"
    }
   ],
   "source": [
    "school_2.get_info()"
   ]
  },
  {
   "cell_type": "code",
   "execution_count": 11,
   "metadata": {},
   "outputs": [
    {
     "data": {
      "text/plain": [
       "{'name': 'Alex',\n",
       " 'familyname': 'Lion',\n",
       " 'age': 16,\n",
       " 'gender': 'boy',\n",
       " 'nationality': 'Africa',\n",
       " 'school': 'Zoo',\n",
       " 'subject': ['Math']}"
      ]
     },
     "execution_count": 11,
     "metadata": {},
     "output_type": "execute_result"
    }
   ],
   "source": [
    "school_2.list_stud[0].get_info()"
   ]
  },
  {
   "cell_type": "code",
   "execution_count": 12,
   "metadata": {},
   "outputs": [
    {
     "data": {
      "text/plain": [
       "{'name': 'Alex',\n",
       " 'familyname': 'Lion',\n",
       " 'age': 16,\n",
       " 'gender': 'boy',\n",
       " 'nationality': 'Africa',\n",
       " 'school': 'Zoo',\n",
       " 'subject': ['Math', 'Physics']}"
      ]
     },
     "execution_count": 12,
     "metadata": {},
     "output_type": "execute_result"
    }
   ],
   "source": [
    "school_2.list_stud[0].add_subject('Physics')\n",
    "school_2.list_stud[0].get_info()"
   ]
  },
  {
   "cell_type": "code",
   "execution_count": 13,
   "metadata": {},
   "outputs": [
    {
     "data": {
      "text/plain": [
       "{'name': 'Alex',\n",
       " 'familyname': 'Lion',\n",
       " 'age': 16,\n",
       " 'gender': 'boy',\n",
       " 'nationality': 'Africa',\n",
       " 'school': 'Zoo',\n",
       " 'subject': ['Math', 'Physics']}"
      ]
     },
     "execution_count": 13,
     "metadata": {},
     "output_type": "execute_result"
    }
   ],
   "source": [
    "school_2.list_stud[0].add_subject('Math')\n",
    "school_2.list_stud[0].get_info()"
   ]
  },
  {
   "cell_type": "code",
   "execution_count": 14,
   "metadata": {},
   "outputs": [
    {
     "data": {
      "text/plain": [
       "{'name': 'Caterpillar',\n",
       " 'familyname': 'Blue',\n",
       " 'age': '110',\n",
       " 'gender': 'girl',\n",
       " 'nationality': 'Turkey',\n",
       " 'school': 'Red Queen School',\n",
       " 'subject': ['Geography', 'Math', 'Biology', 'Physics']}"
      ]
     },
     "execution_count": 14,
     "metadata": {},
     "output_type": "execute_result"
    }
   ],
   "source": [
    "school_1.list_teachers[0].add_subject('Math')\n",
    "school_1.list_teachers[0].get_info()"
   ]
  },
  {
   "cell_type": "code",
   "execution_count": 15,
   "metadata": {},
   "outputs": [
    {
     "data": {
      "text/plain": [
       "('Shkipper', 'Pingvinovich', '22', 'boy', 'Arktika', 'Zoo')"
      ]
     },
     "execution_count": 15,
     "metadata": {},
     "output_type": "execute_result"
    }
   ],
   "source": [
    "school_2.list_teachers[2].name, school_2.list_teachers[2].familyname, school_2.list_teachers[2].age, school_2.list_teachers[2].gender, school_2.list_teachers[2].nationality, school_2.list_teachers[2].school"
   ]
  },
  {
   "cell_type": "code",
   "execution_count": 16,
   "metadata": {},
   "outputs": [
    {
     "data": {
      "text/plain": [
       "('Sonya', 'Sleep', 8, 'girl', 'USA', 'Red Queen School')"
      ]
     },
     "execution_count": 16,
     "metadata": {},
     "output_type": "execute_result"
    }
   ],
   "source": [
    "school_1.list_stud[6].name, school_1.list_stud[6].familyname, school_1.list_stud[6].age, school_1.list_stud[6].gender, school_1.list_stud[6].nationality, school_1.list_stud[6].school\n"
   ]
  },
  {
   "cell_type": "code",
   "execution_count": 17,
   "metadata": {},
   "outputs": [],
   "source": [
    "school_1.get_report()"
   ]
  },
  {
   "cell_type": "code",
   "execution_count": 18,
   "metadata": {},
   "outputs": [],
   "source": [
    "school_2.get_report()"
   ]
  }
 ],
 "metadata": {
  "kernelspec": {
   "display_name": "Python 3 (ipykernel)",
   "language": "python",
   "name": "python3"
  },
  "language_info": {
   "codemirror_mode": {
    "name": "ipython",
    "version": 3
   },
   "file_extension": ".py",
   "mimetype": "text/x-python",
   "name": "python",
   "nbconvert_exporter": "python",
   "pygments_lexer": "ipython3",
   "version": "3.9.12"
  }
 },
 "nbformat": 4,
 "nbformat_minor": 2
}
